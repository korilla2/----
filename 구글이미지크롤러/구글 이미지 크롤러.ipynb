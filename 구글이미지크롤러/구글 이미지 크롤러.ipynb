{
 "cells": [
  {
   "cell_type": "code",
   "execution_count": 1,
   "metadata": {},
   "outputs": [],
   "source": [
    "from webdriver_manager.chrome import ChromeDriverManager\n",
    "from selenium.webdriver.common.by import By\n",
    "from selenium.webdriver.common.keys import Keys\n",
    "from selenium.webdriver.common.action_chains import ActionChains\n",
    "from selenium import webdriver\n",
    "import urllib.request\n",
    "import time\n",
    "import os"
   ]
  },
  {
   "cell_type": "code",
   "execution_count": 3,
   "metadata": {},
   "outputs": [],
   "source": [
    "dog_list = ['돼지고기김치찌개']\n"
   ]
  },
  {
   "cell_type": "code",
   "execution_count": 12,
   "metadata": {},
   "outputs": [
    {
     "name": "stderr",
     "output_type": "stream",
     "text": [
      "\n",
      "\n",
      "====== WebDriver manager ======\n",
      "Could not get version for google-chrome with the command:  powershell \"$ErrorActionPreference='silentlycontinue' ; (Get-Item -Path \"$env:PROGRAMFILES\\Google\\Chrome\\Application\\chrome.exe\").VersionInfo.FileVersion ; if (-not $? -or $? -match $error) { (Get-Item -Path \"$env:PROGRAMFILES(x86)\\Google\\Chrome\\Application\\chrome.exe\").VersionInfo.FileVersion } if (-not $? -or $? -match $error) { (Get-Item -Path \"$env:LOCALAPPDATA\\Google\\Chrome\\Application\\chrome.exe\").VersionInfo.FileVersion } if (-not $? -or $? -match $error) { reg query \"HKCU\\SOFTWARE\\Google\\Chrome\\BLBeacon\" /v version } if (-not $? -or $? -match $error) { reg query \"HKLM\\SOFTWARE\\Wow6432Node\\Microsoft\\Windows\\CurrentVersion\\Uninstall\\Google Chrome\" /v version }\"\n",
      "Current google-chrome version is UNKNOWN\n",
      "Get LATEST chromedriver version for UNKNOWN google-chrome\n",
      "Trying to download new driver from https://chromedriver.storage.googleapis.com/100.0.4896.60/chromedriver_win32.zip\n",
      "Driver has been saved in cache [C:\\Users\\BAUM\\.wdm\\drivers\\chromedriver\\win32\\100.0.4896.60]\n",
      "C:\\Users\\BAUM\\AppData\\Local\\Temp\\ipykernel_17008\\1524485215.py:5: DeprecationWarning: executable_path has been deprecated, please pass in a Service object\n",
      "  driver = webdriver.Chrome(ChromeDriverManager().install(), chrome_options=options)\n",
      "C:\\Users\\BAUM\\AppData\\Local\\Temp\\ipykernel_17008\\1524485215.py:5: DeprecationWarning: use options instead of chrome_options\n",
      "  driver = webdriver.Chrome(ChromeDriverManager().install(), chrome_options=options)\n"
     ]
    }
   ],
   "source": [
    "url = 'https://www.google.co.kr/imghp?hl=ko&ogbl/'\n",
    "options = webdriver.ChromeOptions()\n",
    "options.add_argument('headless')\n",
    "options.add_argument('window-size=1920x1080')\n",
    "driver = webdriver.Chrome(ChromeDriverManager().install(), chrome_options=options)\n",
    "driver.maximize_window()\n",
    "\n",
    "for i in dog_list:    \n",
    "    os.mkdir(f'./data/{i}')\n",
    "    \n",
    "    \n",
    "    driver.get(url)\n",
    "    time.sleep(1)\n",
    "    driver.find_element(By.CSS_SELECTOR, '#sbtc > div > div.a4bIc > input').send_keys(i)\n",
    "    time.sleep(0.3)\n",
    "    ActionChains(driver).send_keys(Keys.ENTER).perform()\n",
    "    ActionChains(driver).reset_actions()\n",
    "    SCROLL_PAUSE_SEC = 2\n",
    "\n",
    "    # 스크롤 높이 가져옴\n",
    "    last_height = driver.execute_script(\"return document.body.scrollHeight\")\n",
    "\n",
    "    while True:\n",
    "        # 끝까지 스크롤 다운\n",
    "        driver.execute_script(\"window.scrollTo(0, document.body.scrollHeight);\")\n",
    "\n",
    "        # 1초 대기\n",
    "        time.sleep(SCROLL_PAUSE_SEC)\n",
    "\n",
    "        # 스크롤 다운 후 스크롤 높이 다시 가져옴\n",
    "        new_height = driver.execute_script(\"return document.body.scrollHeight\")\n",
    "        if new_height == last_height:\n",
    "            try:\n",
    "                driver.find_element(By.CSS_SELECTOR, '#islmp > div > div > div > div.gBPM8 > div.qvfT1 > div.YstHxe > input').send_keys(Keys.ENTER)\n",
    "            except:\n",
    "                break\n",
    "        last_height = new_height\n",
    "    driver.execute_script('window.scrollTo(0, 0)')\n",
    "    time.sleep(1)\n",
    "    try:\n",
    "        images = driver.find_elements(By.CLASS_NAME, 'rg_i.Q4LuWd')\n",
    "    except:\n",
    "        pass\n",
    "    cnt = 1\n",
    "    for j in range(250):\n",
    "        time.sleep(2)\n",
    "        try:\n",
    "            images[j].click()\n",
    "        except:\n",
    "            pass\n",
    "        time.sleep(2)\n",
    "        if j == 0:\n",
    "            try:\n",
    "                imgurl = driver.find_elements(By.CLASS_NAME, 'n3VNCb')[0].get_attribute('src')\n",
    "            except:\n",
    "                pass\n",
    "        else:\n",
    "            try:\n",
    "                imgurl = driver.find_elements(By.CLASS_NAME, 'n3VNCb')[1].get_attribute('src')\n",
    "            except:\n",
    "                imgurl = driver.find_elements(By.CLASS_NAME, 'n3VNCb')[0].get_attribute('src')\n",
    "        time.sleep(0.5)\n",
    "        opener = urllib.request.build_opener()\n",
    "        opener.addheaders = [('User-Agent', 'Mozila/5.0')]        \n",
    "        urllib.request.install_opener(opener)\n",
    "        time.sleep(0.5)\n",
    "        try:\n",
    "            urllib.request.urlretrieve(imgurl, f'./data/{i}/{i}_{str(cnt)}.jpg')\n",
    "        except:\n",
    "            pass\n",
    "        time.sleep(0.5)\n",
    "        cnt+=1"
   ]
  },
  {
   "cell_type": "code",
   "execution_count": null,
   "metadata": {},
   "outputs": [],
   "source": []
  }
 ],
 "metadata": {
  "interpreter": {
   "hash": "646a77bc03f63a31e854881db733c8b8ef41ed62361b97bc930f4a5d5cb3c195"
  },
  "kernelspec": {
   "display_name": "Python 3.9.4 64-bit",
   "language": "python",
   "name": "python3"
  },
  "language_info": {
   "codemirror_mode": {
    "name": "ipython",
    "version": 3
   },
   "file_extension": ".py",
   "mimetype": "text/x-python",
   "name": "python",
   "nbconvert_exporter": "python",
   "pygments_lexer": "ipython3",
   "version": "3.9.4"
  },
  "orig_nbformat": 4
 },
 "nbformat": 4,
 "nbformat_minor": 2
}
